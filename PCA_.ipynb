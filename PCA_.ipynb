{
 "metadata": {
  "language_info": {
   "codemirror_mode": {
    "name": "ipython",
    "version": 3
   },
   "file_extension": ".py",
   "mimetype": "text/x-python",
   "name": "python",
   "nbconvert_exporter": "python",
   "pygments_lexer": "ipython3",
   "version": "3.9.0-final"
  },
  "orig_nbformat": 2,
  "kernelspec": {
   "name": "python390jvsc74a57bd02f0a0c608024a1b70946d2d5b1f2809efc91d44b4ced5884f6761d6d3f52a332",
   "display_name": "Python 3.9.0 64-bit"
  },
  "metadata": {
   "interpreter": {
    "hash": "2f0a0c608024a1b70946d2d5b1f2809efc91d44b4ced5884f6761d6d3f52a332"
   }
  }
 },
 "nbformat": 4,
 "nbformat_minor": 2,
 "cells": [
  {
   "cell_type": "code",
   "execution_count": 11,
   "metadata": {},
   "outputs": [],
   "source": [
    "import pandas as pd \n",
    "import numpy\n",
    "from sklearn.decomposition import PCA\n",
    "from sklearn.model_selection import train_test_split\n",
    "from sklearn.svm import SVC\n",
    "import time\n",
    "import pickle"
   ]
  },
  {
   "cell_type": "code",
   "execution_count": 2,
   "metadata": {},
   "outputs": [
    {
     "output_type": "stream",
     "name": "stdout",
     "text": [
      "(86321, 64) (86321,)\n"
     ]
    }
   ],
   "source": [
    "file = \"training_50_50_standardisasi_filter_8fitur.txt\"\n",
    "df = pd.read_csv(file,delimiter=\"\\t\")\n",
    "kolom = list(df.columns)\n",
    "kolom.remove(\"class\")\n",
    "df = df[(df['class']>0)&(df['class']<7)]\n",
    "x = df[kolom]\n",
    "y = df['class']\n",
    "print(x.shape,y.shape)"
   ]
  },
  {
   "cell_type": "code",
   "execution_count": 9,
   "metadata": {},
   "outputs": [],
   "source": [
    "pca = PCA(n_components=2)\n",
    "x_pca = pca.fit_transform(x)\n",
    "x_pca = pd.DataFrame(x_pca)"
   ]
  },
  {
   "cell_type": "code",
   "execution_count": null,
   "metadata": {},
   "outputs": [],
   "source": [
    "clf = SVC(kernel=\"linear\")\n",
    "start = time.time()\n",
    "clf.fit()\n",
    "print(\"running time:\", time.time()-start)\n",
    "filesave = \"2_pca_standardisasi_filter.sav\"\n",
    "pickle.dump(clf,open(filesave,mode=\"wb\"))"
   ]
  },
  {
   "source": [
    "Pengujian PCA"
   ],
   "cell_type": "markdown",
   "metadata": {}
  },
  {
   "cell_type": "code",
   "execution_count": null,
   "metadata": {},
   "outputs": [],
   "source": [
    "file = \"test_50_50_standardisasi_filter_8fitur.txt\"\n",
    "df = pd.read_csv(file,delimiter=\"\\t\")\n",
    "kolom = list(df.columns)\n",
    "kolom.remove(\"class\")\n",
    "df = df[(df['class']>0)&(df['class']<7)]\n",
    "x = df[kolom]\n",
    "y = df['class']"
   ]
  },
  {
   "cell_type": "code",
   "execution_count": null,
   "metadata": {},
   "outputs": [],
   "source": [
    "pca = PCA(n_components=2)\n",
    "x_pca = pca.fit_transform(x)\n",
    "x_pca = pd.DataFrame(x_pca)"
   ]
  },
  {
   "cell_type": "code",
   "execution_count": null,
   "metadata": {},
   "outputs": [],
   "source": [
    "x_test,x_val,y_test,y_val = train_test_split(x_lda,y,test_size=0.5, random_state=101)"
   ]
  },
  {
   "cell_type": "code",
   "execution_count": null,
   "metadata": {},
   "outputs": [],
   "source": [
    "datatest = pd.concat([y_test,x_test],axis=1)\n",
    "dataval = pd.concat([y_val,x_val],axis=1)\n",
    "datatest.to_csv(\"test_25_25_standardisasi_2PCA.txt\", index=None, sep='\\t', mode='a')\n",
    "dataval.to_csv(\"val_25_25_standardisasi_2PCA.txt\", index=None, sep='\\t', mode='a')"
   ]
  },
  {
   "cell_type": "code",
   "execution_count": null,
   "metadata": {},
   "outputs": [],
   "source": [
    "filesave = \"2_pca_standardisasi_filter.sav\"\n",
    "model = pickle.load(open(filesave,'rb'))"
   ]
  },
  {
   "cell_type": "code",
   "execution_count": null,
   "metadata": {},
   "outputs": [],
   "source": [
    "from sklearn.metrics import classification_report\n",
    "y_pred = model.predict(x_test)\n",
    "print(classification_report(y_test,y_pred))"
   ]
  }
 ]
}