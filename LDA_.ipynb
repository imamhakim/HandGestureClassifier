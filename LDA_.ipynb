{
 "metadata": {
  "language_info": {
   "codemirror_mode": {
    "name": "ipython",
    "version": 3
   },
   "file_extension": ".py",
   "mimetype": "text/x-python",
   "name": "python",
   "nbconvert_exporter": "python",
   "pygments_lexer": "ipython3",
   "version": "3.9.0-final"
  },
  "orig_nbformat": 2,
  "kernelspec": {
   "name": "python390jvsc74a57bd02f0a0c608024a1b70946d2d5b1f2809efc91d44b4ced5884f6761d6d3f52a332",
   "display_name": "Python 3.9.0 64-bit"
  },
  "metadata": {
   "interpreter": {
    "hash": "2f0a0c608024a1b70946d2d5b1f2809efc91d44b4ced5884f6761d6d3f52a332"
   }
  }
 },
 "nbformat": 4,
 "nbformat_minor": 2,
 "cells": [
  {
   "cell_type": "code",
   "execution_count": 71,
   "metadata": {},
   "outputs": [],
   "source": [
    "import pandas as pd\n",
    "from sklearn.discriminant_analysis import LinearDiscriminantAnalysis\n",
    "import time\n",
    "import pickle"
   ]
  },
  {
   "cell_type": "code",
   "execution_count": 72,
   "metadata": {},
   "outputs": [
    {
     "output_type": "stream",
     "name": "stdout",
     "text": [
      "(86321, 64) (86321,)\n"
     ]
    }
   ],
   "source": [
    "file = \"training_50_50_standardisasi_filter_8fitur.txt\"\n",
    "df = pd.read_csv(file,delimiter=\"\\t\")\n",
    "kolom = list(df.columns)\n",
    "kolom.remove(\"class\")\n",
    "df = df[(df['class']>0)&(df['class']<7)]\n",
    "x = df[kolom]\n",
    "y = df['class']\n",
    "print(x.shape,y.shape)"
   ]
  },
  {
   "cell_type": "code",
   "execution_count": 73,
   "metadata": {},
   "outputs": [
    {
     "output_type": "stream",
     "name": "stdout",
     "text": [
      "running time: 0.830315351486206\n"
     ]
    }
   ],
   "source": [
    "lda= LinearDiscriminantAnalysis(n_components=3)\n",
    "start = time.time()\n",
    "x_lda = lda.fit_transform(x,y)\n",
    "print(\"running time:\", time.time()-start)"
   ]
  },
  {
   "cell_type": "code",
   "execution_count": 74,
   "metadata": {},
   "outputs": [
    {
     "output_type": "execute_result",
     "data": {
      "text/plain": [
       "              0         1         2\n",
       "0     -3.530073 -2.853779 -0.327668\n",
       "1     -3.602598 -2.823555 -0.253953\n",
       "2     -3.634167 -2.852450 -0.260405\n",
       "3     -3.621928 -2.854669 -0.248054\n",
       "4     -3.596154 -2.887437 -0.241881\n",
       "...         ...       ...       ...\n",
       "86316 -1.298704  0.778580  1.140643\n",
       "86317 -1.253745  0.875078  1.286794\n",
       "86318 -1.230093  0.871755  1.232983\n",
       "86319 -1.202535  0.956562  1.162882\n",
       "86320 -1.201470  0.994957  1.246813\n",
       "\n",
       "[86321 rows x 3 columns]"
      ],
      "text/html": "<div>\n<style scoped>\n    .dataframe tbody tr th:only-of-type {\n        vertical-align: middle;\n    }\n\n    .dataframe tbody tr th {\n        vertical-align: top;\n    }\n\n    .dataframe thead th {\n        text-align: right;\n    }\n</style>\n<table border=\"1\" class=\"dataframe\">\n  <thead>\n    <tr style=\"text-align: right;\">\n      <th></th>\n      <th>0</th>\n      <th>1</th>\n      <th>2</th>\n    </tr>\n  </thead>\n  <tbody>\n    <tr>\n      <th>0</th>\n      <td>-3.530073</td>\n      <td>-2.853779</td>\n      <td>-0.327668</td>\n    </tr>\n    <tr>\n      <th>1</th>\n      <td>-3.602598</td>\n      <td>-2.823555</td>\n      <td>-0.253953</td>\n    </tr>\n    <tr>\n      <th>2</th>\n      <td>-3.634167</td>\n      <td>-2.852450</td>\n      <td>-0.260405</td>\n    </tr>\n    <tr>\n      <th>3</th>\n      <td>-3.621928</td>\n      <td>-2.854669</td>\n      <td>-0.248054</td>\n    </tr>\n    <tr>\n      <th>4</th>\n      <td>-3.596154</td>\n      <td>-2.887437</td>\n      <td>-0.241881</td>\n    </tr>\n    <tr>\n      <th>...</th>\n      <td>...</td>\n      <td>...</td>\n      <td>...</td>\n    </tr>\n    <tr>\n      <th>86316</th>\n      <td>-1.298704</td>\n      <td>0.778580</td>\n      <td>1.140643</td>\n    </tr>\n    <tr>\n      <th>86317</th>\n      <td>-1.253745</td>\n      <td>0.875078</td>\n      <td>1.286794</td>\n    </tr>\n    <tr>\n      <th>86318</th>\n      <td>-1.230093</td>\n      <td>0.871755</td>\n      <td>1.232983</td>\n    </tr>\n    <tr>\n      <th>86319</th>\n      <td>-1.202535</td>\n      <td>0.956562</td>\n      <td>1.162882</td>\n    </tr>\n    <tr>\n      <th>86320</th>\n      <td>-1.201470</td>\n      <td>0.994957</td>\n      <td>1.246813</td>\n    </tr>\n  </tbody>\n</table>\n<p>86321 rows × 3 columns</p>\n</div>"
     },
     "metadata": {},
     "execution_count": 74
    }
   ],
   "source": [
    "x_lda = pd.DataFrame(x_lda)\n",
    "x_lda"
   ]
  },
  {
   "cell_type": "code",
   "execution_count": 75,
   "metadata": {},
   "outputs": [
    {
     "output_type": "stream",
     "name": "stdout",
     "text": [
      "running time: 27.812564611434937\n"
     ]
    }
   ],
   "source": [
    "from sklearn.svm import SVC\n",
    "clf = SVC(kernel=\"linear\")\n",
    "start = time.time()\n",
    "clf.fit(x_lda,y)\n",
    "print(\"running time:\", time.time()-start)\n",
    "filesave = \"3_lda_standardisasi_filter.sav\"\n",
    "pickle.dump(clf,open(filesave,mode=\"wb\"))"
   ]
  },
  {
   "source": [
    "PENGUJIAN LDA"
   ],
   "cell_type": "markdown",
   "metadata": {}
  },
  {
   "cell_type": "code",
   "execution_count": 82,
   "metadata": {},
   "outputs": [],
   "source": [
    "import pandas as pd\n",
    "import pickle\n",
    "from sklearn.model_selection import train_test_split\n",
    "file = \"test_50_50_standardisasi_filter_8fitur.txt\"\n",
    "df = pd.read_csv(file,delimiter=\"\\t\")\n",
    "kolom = list(df.columns)\n",
    "kolom.remove(\"class\")\n",
    "df = df[(df['class']>0)&(df['class']<7)]\n",
    "x = df[kolom]\n",
    "y = df['class']"
   ]
  },
  {
   "cell_type": "code",
   "execution_count": 89,
   "metadata": {},
   "outputs": [],
   "source": [
    "lda = LinearDiscriminantAnalysis(n_components=5)\n",
    "x_lda = lda.fit_transform(x,y)\n",
    "x_lda = pd.DataFrame(x_lda)"
   ]
  },
  {
   "cell_type": "code",
   "execution_count": 84,
   "metadata": {},
   "outputs": [],
   "source": [
    "x_test,x_val,y_test,y_val = train_test_split(x_lda,y,test_size=0.5, random_state=101)"
   ]
  },
  {
   "cell_type": "code",
   "execution_count": 85,
   "metadata": {},
   "outputs": [],
   "source": [
    "datatest = pd.concat([y_test,x_test],axis=1)\n",
    "dataval = pd.concat([y_val,x_val],axis=1)\n",
    "datatest.to_csv(\"test_25_25_standardisasi_5LDA.txt\", index=None, sep='\\t', mode='a')\n",
    "dataval.to_csv(\"val_25_25_standardisasi_5LDA.txt\", index=None, sep='\\t', mode='a')"
   ]
  },
  {
   "cell_type": "code",
   "execution_count": 86,
   "metadata": {},
   "outputs": [],
   "source": [
    "filesave = \"5_lda_standardisasi_filter.sav\"\n",
    "model = pickle.load(open(filesave,'rb'))"
   ]
  },
  {
   "cell_type": "code",
   "execution_count": 87,
   "metadata": {},
   "outputs": [
    {
     "output_type": "stream",
     "name": "stdout",
     "text": [
      "              precision    recall  f1-score   support\n\n           1       0.96      0.98      0.97      7025\n           2       0.90      0.91      0.90      7008\n           3       0.86      0.84      0.85      7172\n           4       0.87      0.89      0.88      7316\n           5       0.87      0.84      0.86      7167\n           6       0.84      0.85      0.85      7297\n\n    accuracy                           0.88     42985\n   macro avg       0.88      0.89      0.88     42985\nweighted avg       0.88      0.88      0.88     42985\n\n"
     ]
    }
   ],
   "source": [
    "from sklearn.metrics import classification_report\n",
    "y_pred = model.predict(x_test)\n",
    "print(classification_report(y_test,y_pred))"
   ]
  },
  {
   "cell_type": "code",
   "execution_count": null,
   "metadata": {},
   "outputs": [],
   "source": []
  }
 ]
}